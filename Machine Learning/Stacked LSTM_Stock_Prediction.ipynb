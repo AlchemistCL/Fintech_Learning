{
 "cells": [
  {
   "cell_type": "code",
   "execution_count": 6,
   "metadata": {},
   "outputs": [],
   "source": [
    "import pandas as pd\n",
    "import numpy as np\n",
    "import matplotlib.pyplot as plt\n",
    "from sklearn.preprocessing import MinMaxScaler\n",
    "\n",
    "\n",
    "### Create the Stacked LSTM model\n",
    "from tensorflow.keras.models import Sequential\n",
    "from tensorflow.keras.layers import Dense\n",
    "from tensorflow.keras.layers import LSTM\n",
    "\n",
    "import tensorflow as tf\n",
    "import math\n",
    "from sklearn.metrics import mean_squared_error"
   ]
  },
  {
   "cell_type": "code",
   "execution_count": 51,
   "metadata": {},
   "outputs": [],
   "source": [
    "#download the data from finance\n",
    "import yfinance as yf"
   ]
  },
  {
   "cell_type": "code",
   "execution_count": null,
   "metadata": {},
   "outputs": [],
   "source": [
    "#start='2010-01-01'\n",
    "#end='2021-01-01'\n",
    "\n",
    "#ticker='AAPL'\n",
    "#df=yf.download(ticker,start,end,interval='1d')\n",
    "#df.to_csv('C:/Users/13003/Documents/Python Scripts/data/{}.csv'.format(ticker))"
   ]
  },
  {
   "cell_type": "code",
   "execution_count": 41,
   "metadata": {},
   "outputs": [],
   "source": [
    "data_filename='C:/Users/13003/Documents/Python Scripts/data/{}.csv'.format(ticker)"
   ]
  },
  {
   "cell_type": "code",
   "execution_count": 2,
   "metadata": {},
   "outputs": [],
   "source": [
    "df=pd.read_csv(data_filename)"
   ]
  },
  {
   "cell_type": "code",
   "execution_count": 3,
   "metadata": {},
   "outputs": [
    {
     "data": {
      "text/html": [
       "<div>\n",
       "<style scoped>\n",
       "    .dataframe tbody tr th:only-of-type {\n",
       "        vertical-align: middle;\n",
       "    }\n",
       "\n",
       "    .dataframe tbody tr th {\n",
       "        vertical-align: top;\n",
       "    }\n",
       "\n",
       "    .dataframe thead th {\n",
       "        text-align: right;\n",
       "    }\n",
       "</style>\n",
       "<table border=\"1\" class=\"dataframe\">\n",
       "  <thead>\n",
       "    <tr style=\"text-align: right;\">\n",
       "      <th></th>\n",
       "      <th>Unnamed: 0</th>\n",
       "      <th>symbol</th>\n",
       "      <th>date</th>\n",
       "      <th>close</th>\n",
       "      <th>high</th>\n",
       "      <th>low</th>\n",
       "      <th>open</th>\n",
       "      <th>volume</th>\n",
       "      <th>adjClose</th>\n",
       "      <th>adjHigh</th>\n",
       "      <th>adjLow</th>\n",
       "      <th>adjOpen</th>\n",
       "      <th>adjVolume</th>\n",
       "      <th>divCash</th>\n",
       "      <th>splitFactor</th>\n",
       "    </tr>\n",
       "  </thead>\n",
       "  <tbody>\n",
       "    <tr>\n",
       "      <th>0</th>\n",
       "      <td>0</td>\n",
       "      <td>AAPL</td>\n",
       "      <td>2015-05-27 00:00:00+00:00</td>\n",
       "      <td>132.045</td>\n",
       "      <td>132.260</td>\n",
       "      <td>130.05</td>\n",
       "      <td>130.34</td>\n",
       "      <td>45833246</td>\n",
       "      <td>121.682558</td>\n",
       "      <td>121.880685</td>\n",
       "      <td>119.844118</td>\n",
       "      <td>120.111360</td>\n",
       "      <td>45833246</td>\n",
       "      <td>0.0</td>\n",
       "      <td>1.0</td>\n",
       "    </tr>\n",
       "    <tr>\n",
       "      <th>1</th>\n",
       "      <td>1</td>\n",
       "      <td>AAPL</td>\n",
       "      <td>2015-05-28 00:00:00+00:00</td>\n",
       "      <td>131.780</td>\n",
       "      <td>131.950</td>\n",
       "      <td>131.10</td>\n",
       "      <td>131.86</td>\n",
       "      <td>30733309</td>\n",
       "      <td>121.438354</td>\n",
       "      <td>121.595013</td>\n",
       "      <td>120.811718</td>\n",
       "      <td>121.512076</td>\n",
       "      <td>30733309</td>\n",
       "      <td>0.0</td>\n",
       "      <td>1.0</td>\n",
       "    </tr>\n",
       "    <tr>\n",
       "      <th>2</th>\n",
       "      <td>2</td>\n",
       "      <td>AAPL</td>\n",
       "      <td>2015-05-29 00:00:00+00:00</td>\n",
       "      <td>130.280</td>\n",
       "      <td>131.450</td>\n",
       "      <td>129.90</td>\n",
       "      <td>131.23</td>\n",
       "      <td>50884452</td>\n",
       "      <td>120.056069</td>\n",
       "      <td>121.134251</td>\n",
       "      <td>119.705890</td>\n",
       "      <td>120.931516</td>\n",
       "      <td>50884452</td>\n",
       "      <td>0.0</td>\n",
       "      <td>1.0</td>\n",
       "    </tr>\n",
       "    <tr>\n",
       "      <th>3</th>\n",
       "      <td>3</td>\n",
       "      <td>AAPL</td>\n",
       "      <td>2015-06-01 00:00:00+00:00</td>\n",
       "      <td>130.535</td>\n",
       "      <td>131.390</td>\n",
       "      <td>130.05</td>\n",
       "      <td>131.20</td>\n",
       "      <td>32112797</td>\n",
       "      <td>120.291057</td>\n",
       "      <td>121.078960</td>\n",
       "      <td>119.844118</td>\n",
       "      <td>120.903870</td>\n",
       "      <td>32112797</td>\n",
       "      <td>0.0</td>\n",
       "      <td>1.0</td>\n",
       "    </tr>\n",
       "    <tr>\n",
       "      <th>4</th>\n",
       "      <td>4</td>\n",
       "      <td>AAPL</td>\n",
       "      <td>2015-06-02 00:00:00+00:00</td>\n",
       "      <td>129.960</td>\n",
       "      <td>130.655</td>\n",
       "      <td>129.32</td>\n",
       "      <td>129.86</td>\n",
       "      <td>33667627</td>\n",
       "      <td>119.761181</td>\n",
       "      <td>120.401640</td>\n",
       "      <td>119.171406</td>\n",
       "      <td>119.669029</td>\n",
       "      <td>33667627</td>\n",
       "      <td>0.0</td>\n",
       "      <td>1.0</td>\n",
       "    </tr>\n",
       "  </tbody>\n",
       "</table>\n",
       "</div>"
      ],
      "text/plain": [
       "   Unnamed: 0 symbol                       date    close     high     low  \\\n",
       "0           0   AAPL  2015-05-27 00:00:00+00:00  132.045  132.260  130.05   \n",
       "1           1   AAPL  2015-05-28 00:00:00+00:00  131.780  131.950  131.10   \n",
       "2           2   AAPL  2015-05-29 00:00:00+00:00  130.280  131.450  129.90   \n",
       "3           3   AAPL  2015-06-01 00:00:00+00:00  130.535  131.390  130.05   \n",
       "4           4   AAPL  2015-06-02 00:00:00+00:00  129.960  130.655  129.32   \n",
       "\n",
       "     open    volume    adjClose     adjHigh      adjLow     adjOpen  \\\n",
       "0  130.34  45833246  121.682558  121.880685  119.844118  120.111360   \n",
       "1  131.86  30733309  121.438354  121.595013  120.811718  121.512076   \n",
       "2  131.23  50884452  120.056069  121.134251  119.705890  120.931516   \n",
       "3  131.20  32112797  120.291057  121.078960  119.844118  120.903870   \n",
       "4  129.86  33667627  119.761181  120.401640  119.171406  119.669029   \n",
       "\n",
       "   adjVolume  divCash  splitFactor  \n",
       "0   45833246      0.0          1.0  \n",
       "1   30733309      0.0          1.0  \n",
       "2   50884452      0.0          1.0  \n",
       "3   32112797      0.0          1.0  \n",
       "4   33667627      0.0          1.0  "
      ]
     },
     "execution_count": 3,
     "metadata": {},
     "output_type": "execute_result"
    }
   ],
   "source": [
    "df.head()"
   ]
  },
  {
   "cell_type": "code",
   "execution_count": 4,
   "metadata": {},
   "outputs": [],
   "source": [
    "df1=df.reset_index()['close']"
   ]
  },
  {
   "cell_type": "code",
   "execution_count": 7,
   "metadata": {},
   "outputs": [
    {
     "data": {
      "text/plain": [
       "[<matplotlib.lines.Line2D at 0x1adcb0092b0>]"
      ]
     },
     "execution_count": 7,
     "metadata": {},
     "output_type": "execute_result"
    },
    {
     "data": {
      "image/png": "[encoded data removed]",
      "text/plain": [
       "<Figure size 432x288 with 1 Axes>"
      ]
     },
     "metadata": {
      "needs_background": "light"
     },
     "output_type": "display_data"
    }
   ],
   "source": [
    "plt.plot(df1)"
   ]
  },
  {
   "cell_type": "code",
   "execution_count": 9,
   "metadata": {},
   "outputs": [],
   "source": [
    "scaler=MinMaxScaler(feature_range=(0,1))\n",
    "df1=scaler.fit_transform(np.array(df1).reshape(-1,1))"
   ]
  },
  {
   "cell_type": "code",
   "execution_count": 10,
   "metadata": {},
   "outputs": [
    {
     "data": {
      "text/plain": [
       "array([[0.17607447],\n",
       "       [0.17495567],\n",
       "       [0.16862282],\n",
       "       ...,\n",
       "       [0.96635143],\n",
       "       [0.9563033 ],\n",
       "       [0.96491598]])"
      ]
     },
     "execution_count": 10,
     "metadata": {},
     "output_type": "execute_result"
    }
   ],
   "source": [
    "df1"
   ]
  },
  {
   "cell_type": "code",
   "execution_count": 13,
   "metadata": {},
   "outputs": [],
   "source": [
    "##splitting dataset into train and test split\n",
    "training_size=int(len(df1)*0.65)\n",
    "test_size=len(df1)-training_size\n",
    "train_data,test_data=df1[0:training_size,:],df1[training_size:len(df1),:1]"
   ]
  },
  {
   "cell_type": "code",
   "execution_count": 15,
   "metadata": {},
   "outputs": [
    {
     "data": {
      "text/plain": [
       "(817, 441)"
      ]
     },
     "execution_count": 15,
     "metadata": {},
     "output_type": "execute_result"
    }
   ],
   "source": [
    "training_size,test_size"
   ]
  },
  {
   "cell_type": "code",
   "execution_count": 18,
   "metadata": {},
   "outputs": [],
   "source": [
    "# convert an array of values into a dataset matrix\n",
    "def create_dataset(dataset, time_step=1):\n",
    "\tdataX, dataY = [], []\n",
    "\tfor i in range(len(dataset)-time_step-1):\n",
    "\t\ta = dataset[i:(i+time_step), 0]   ###i=0, 0,1,2,3-----99   100 \n",
    "\t\tdataX.append(a)\n",
    "\t\tdataY.append(dataset[i + time_step, 0])\n",
    "\treturn np.array(dataX), np.array(dataY)"
   ]
  },
  {
   "cell_type": "code",
   "execution_count": 19,
   "metadata": {},
   "outputs": [],
   "source": [
    "# reshape into X=t,t+1,t+2,t+3 and Y=t+4\n",
    "time_step = 100\n",
    "X_train, y_train = create_dataset(train_data, time_step)\n",
    "X_test, ytest = create_dataset(test_data, time_step)"
   ]
  },
  {
   "cell_type": "code",
   "execution_count": 28,
   "metadata": {},
   "outputs": [
    {
     "data": {
      "text/plain": [
       "((716, 100), (716,))"
      ]
     },
     "execution_count": 28,
     "metadata": {},
     "output_type": "execute_result"
    }
   ],
   "source": [
    "X_train.shape, y_train.shape"
   ]
  },
  {
   "cell_type": "code",
   "execution_count": 29,
   "metadata": {},
   "outputs": [],
   "source": [
    "# reshape input to be [samples, time steps, features] which is required for LSTM\n",
    "X_train =X_train.reshape(X_train.shape[0],X_train.shape[1] , 1)\n",
    "X_test = X_test.reshape(X_test.shape[0],X_test.shape[1] , 1)"
   ]
  },
  {
   "cell_type": "code",
   "execution_count": 32,
   "metadata": {},
   "outputs": [],
   "source": [
    "### Create the Stacked LSTM model\n",
    "model=Sequential()\n",
    "model.add(LSTM(50,return_sequences=True,input_shape=(100,1)))\n",
    "model.add(LSTM(50,return_sequences=True))\n",
    "model.add(LSTM(50))\n",
    "model.add(Dense(1))\n",
    "model.compile(loss='mean_squared_error',optimizer='adam')"
   ]
  },
  {
   "cell_type": "code",
   "execution_count": 33,
   "metadata": {},
   "outputs": [
    {
     "name": "stdout",
     "output_type": "stream",
     "text": [
      "Model: \"sequential\"\n",
      "_________________________________________________________________\n",
      "Layer (type)                 Output Shape              Param #   \n",
      "=================================================================\n",
      "lstm (LSTM)                  (None, 100, 50)           10400     \n",
      "_________________________________________________________________\n",
      "lstm_1 (LSTM)                (None, 100, 50)           20200     \n",
      "_________________________________________________________________\n",
      "lstm_2 (LSTM)                (None, 50)                20200     \n",
      "_________________________________________________________________\n",
      "dense (Dense)                (None, 1)                 51        \n",
      "=================================================================\n",
      "Total params: 50,851\n",
      "Trainable params: 50,851\n",
      "Non-trainable params: 0\n",
      "_________________________________________________________________\n"
     ]
    }
   ],
   "source": [
    "model.summary()"
   ]
  },
  {
   "cell_type": "code",
   "execution_count": 34,
   "metadata": {},
   "outputs": [
    {
     "name": "stdout",
     "output_type": "stream",
     "text": [
      "Epoch 1/100\n",
      "12/12 [==============================] - 6s 464ms/step - loss: 0.0157 - val_loss: 0.0652\n",
      "Epoch 2/100\n",
      "12/12 [==============================] - 2s 177ms/step - loss: 0.0033 - val_loss: 0.0051\n",
      "Epoch 3/100\n",
      "12/12 [==============================] - 2s 177ms/step - loss: 9.5150e-04 - val_loss: 0.0040\n",
      "Epoch 4/100\n",
      "12/12 [==============================] - 2s 183ms/step - loss: 7.8079e-04 - val_loss: 0.0057\n",
      "Epoch 5/100\n",
      "12/12 [==============================] - 2s 189ms/step - loss: 6.6475e-04 - val_loss: 0.0076\n",
      "Epoch 6/100\n",
      "12/12 [==============================] - 2s 183ms/step - loss: 6.4531e-04 - val_loss: 0.0059\n",
      "Epoch 7/100\n",
      "12/12 [==============================] - 2s 188ms/step - loss: 6.5737e-04 - val_loss: 0.0049\n",
      "Epoch 8/100\n",
      "12/12 [==============================] - 2s 177ms/step - loss: 6.1332e-04 - val_loss: 0.0054\n",
      "Epoch 9/100\n",
      "12/12 [==============================] - 2s 180ms/step - loss: 6.0079e-04 - val_loss: 0.0040\n",
      "Epoch 10/100\n",
      "12/12 [==============================] - 2s 183ms/step - loss: 6.1765e-04 - val_loss: 0.0046\n",
      "Epoch 11/100\n",
      "12/12 [==============================] - 2s 184ms/step - loss: 5.9844e-04 - val_loss: 0.0045\n",
      "Epoch 12/100\n",
      "12/12 [==============================] - 3s 235ms/step - loss: 5.9905e-04 - val_loss: 0.0043\n",
      "Epoch 13/100\n",
      "12/12 [==============================] - 2s 185ms/step - loss: 6.7627e-04 - val_loss: 0.0053\n",
      "Epoch 14/100\n",
      "12/12 [==============================] - 2s 188ms/step - loss: 6.0550e-04 - val_loss: 0.0037\n",
      "Epoch 15/100\n",
      "12/12 [==============================] - 3s 217ms/step - loss: 6.1716e-04 - val_loss: 0.0032\n",
      "Epoch 16/100\n",
      "12/12 [==============================] - 3s 210ms/step - loss: 5.7622e-04 - val_loss: 0.0030\n",
      "Epoch 17/100\n",
      "12/12 [==============================] - 2s 194ms/step - loss: 5.4867e-04 - val_loss: 0.0029\n",
      "Epoch 18/100\n",
      "12/12 [==============================] - 2s 184ms/step - loss: 5.5740e-04 - val_loss: 0.0030\n",
      "Epoch 19/100\n",
      "12/12 [==============================] - 3s 216ms/step - loss: 5.8574e-04 - val_loss: 0.0028\n",
      "Epoch 20/100\n",
      "12/12 [==============================] - 2s 202ms/step - loss: 5.2371e-04 - val_loss: 0.0027\n",
      "Epoch 21/100\n",
      "12/12 [==============================] - 2s 201ms/step - loss: 5.5559e-04 - val_loss: 0.0031\n",
      "Epoch 22/100\n",
      "12/12 [==============================] - 2s 203ms/step - loss: 5.0837e-04 - val_loss: 0.0029\n",
      "Epoch 23/100\n",
      "12/12 [==============================] - 2s 200ms/step - loss: 4.9626e-04 - val_loss: 0.0024\n",
      "Epoch 24/100\n",
      "12/12 [==============================] - 2s 194ms/step - loss: 4.7967e-04 - val_loss: 0.0024\n",
      "Epoch 25/100\n",
      "12/12 [==============================] - 3s 213ms/step - loss: 4.6474e-04 - val_loss: 0.0023\n",
      "Epoch 26/100\n",
      "12/12 [==============================] - 2s 186ms/step - loss: 4.6572e-04 - val_loss: 0.0027\n",
      "Epoch 27/100\n",
      "12/12 [==============================] - 2s 207ms/step - loss: 4.5236e-04 - val_loss: 0.0027\n",
      "Epoch 28/100\n",
      "12/12 [==============================] - 2s 196ms/step - loss: 4.4839e-04 - val_loss: 0.0021\n",
      "Epoch 29/100\n",
      "12/12 [==============================] - 2s 194ms/step - loss: 4.6791e-04 - val_loss: 0.0020\n",
      "Epoch 30/100\n",
      "12/12 [==============================] - 3s 244ms/step - loss: 4.3139e-04 - val_loss: 0.0021\n",
      "Epoch 31/100\n",
      "12/12 [==============================] - 3s 225ms/step - loss: 4.6110e-04 - val_loss: 0.0018\n",
      "Epoch 32/100\n",
      "12/12 [==============================] - 2s 179ms/step - loss: 4.5569e-04 - val_loss: 0.0021\n",
      "Epoch 33/100\n",
      "12/12 [==============================] - 3s 223ms/step - loss: 5.2921e-04 - val_loss: 0.0023\n",
      "Epoch 34/100\n",
      "12/12 [==============================] - 4s 307ms/step - loss: 4.5354e-04 - val_loss: 0.0018\n",
      "Epoch 35/100\n",
      "12/12 [==============================] - 3s 225ms/step - loss: 5.1280e-04 - val_loss: 0.0040\n",
      "Epoch 36/100\n",
      "12/12 [==============================] - 4s 327ms/step - loss: 4.4078e-04 - val_loss: 0.0019\n",
      "Epoch 37/100\n",
      "12/12 [==============================] - 3s 221ms/step - loss: 5.7943e-04 - val_loss: 0.0016\n",
      "Epoch 38/100\n",
      "12/12 [==============================] - 3s 219ms/step - loss: 4.5018e-04 - val_loss: 0.0033\n",
      "Epoch 39/100\n",
      "12/12 [==============================] - 2s 180ms/step - loss: 4.2047e-04 - val_loss: 0.0018\n",
      "Epoch 40/100\n",
      "12/12 [==============================] - 2s 196ms/step - loss: 3.5128e-04 - val_loss: 0.0016\n",
      "Epoch 41/100\n",
      "12/12 [==============================] - 2s 175ms/step - loss: 3.5554e-04 - val_loss: 0.0015\n",
      "Epoch 42/100\n",
      "12/12 [==============================] - 2s 176ms/step - loss: 3.3875e-04 - val_loss: 0.0024\n",
      "Epoch 43/100\n",
      "12/12 [==============================] - 2s 179ms/step - loss: 3.4911e-04 - val_loss: 0.0015\n",
      "Epoch 44/100\n",
      "12/12 [==============================] - 2s 186ms/step - loss: 3.3739e-04 - val_loss: 0.0028\n",
      "Epoch 45/100\n",
      "12/12 [==============================] - 2s 176ms/step - loss: 3.5812e-04 - val_loss: 0.0016\n",
      "Epoch 46/100\n",
      "12/12 [==============================] - 2s 179ms/step - loss: 3.1826e-04 - val_loss: 0.0020\n",
      "Epoch 47/100\n",
      "12/12 [==============================] - 3s 216ms/step - loss: 3.2059e-04 - val_loss: 0.0014\n",
      "Epoch 48/100\n",
      "12/12 [==============================] - 3s 219ms/step - loss: 3.2096e-04 - val_loss: 0.0019\n",
      "Epoch 49/100\n",
      "12/12 [==============================] - 3s 217ms/step - loss: 3.1657e-04 - val_loss: 0.0016\n",
      "Epoch 50/100\n",
      "12/12 [==============================] - 3s 209ms/step - loss: 3.0256e-04 - val_loss: 0.0015\n",
      "Epoch 51/100\n",
      "12/12 [==============================] - 3s 220ms/step - loss: 2.9823e-04 - val_loss: 0.0017\n",
      "Epoch 52/100\n",
      "12/12 [==============================] - 2s 185ms/step - loss: 3.0834e-04 - val_loss: 0.0016\n",
      "Epoch 53/100\n",
      "12/12 [==============================] - 2s 202ms/step - loss: 3.2668e-04 - val_loss: 0.0015\n",
      "Epoch 54/100\n",
      "12/12 [==============================] - 3s 268ms/step - loss: 2.9189e-04 - val_loss: 0.0022\n",
      "Epoch 55/100\n",
      "12/12 [==============================] - 3s 228ms/step - loss: 3.2736e-04 - val_loss: 0.0016\n",
      "Epoch 56/100\n",
      "12/12 [==============================] - 2s 190ms/step - loss: 2.9911e-04 - val_loss: 0.0015\n",
      "Epoch 57/100\n",
      "12/12 [==============================] - 3s 244ms/step - loss: 2.7533e-04 - val_loss: 0.0021\n",
      "Epoch 58/100\n",
      "12/12 [==============================] - 2s 192ms/step - loss: 2.8481e-04 - val_loss: 0.0014\n",
      "Epoch 59/100\n",
      "12/12 [==============================] - 2s 187ms/step - loss: 2.7337e-04 - val_loss: 0.0018\n",
      "Epoch 60/100\n",
      "12/12 [==============================] - 3s 212ms/step - loss: 2.6839e-04 - val_loss: 0.0015\n",
      "Epoch 61/100\n",
      "12/12 [==============================] - 3s 234ms/step - loss: 2.9692e-04 - val_loss: 0.0014\n",
      "Epoch 62/100\n",
      "12/12 [==============================] - 2s 194ms/step - loss: 3.0633e-04 - val_loss: 0.0014\n",
      "Epoch 63/100\n",
      "12/12 [==============================] - 2s 191ms/step - loss: 2.8303e-04 - val_loss: 0.0017\n",
      "Epoch 64/100\n",
      "12/12 [==============================] - 2s 196ms/step - loss: 2.6091e-04 - val_loss: 0.0013\n",
      "Epoch 65/100\n",
      "12/12 [==============================] - 2s 200ms/step - loss: 2.6418e-04 - val_loss: 0.0021\n",
      "Epoch 66/100\n",
      "12/12 [==============================] - 2s 195ms/step - loss: 2.7290e-04 - val_loss: 0.0013\n",
      "Epoch 67/100\n",
      "12/12 [==============================] - 3s 237ms/step - loss: 2.5665e-04 - val_loss: 0.0019\n",
      "Epoch 68/100\n",
      "12/12 [==============================] - 3s 220ms/step - loss: 2.6326e-04 - val_loss: 0.0014\n",
      "Epoch 69/100\n",
      "12/12 [==============================] - 2s 185ms/step - loss: 2.5815e-04 - val_loss: 0.0014\n",
      "Epoch 70/100\n",
      "12/12 [==============================] - 2s 186ms/step - loss: 2.3363e-04 - val_loss: 0.0013\n",
      "Epoch 71/100\n",
      "12/12 [==============================] - 2s 187ms/step - loss: 2.3508e-04 - val_loss: 0.0013\n",
      "Epoch 72/100\n",
      "12/12 [==============================] - 2s 189ms/step - loss: 2.3918e-04 - val_loss: 0.0012\n",
      "Epoch 73/100\n",
      "12/12 [==============================] - 2s 185ms/step - loss: 2.3134e-04 - val_loss: 0.0012\n",
      "Epoch 74/100\n",
      "12/12 [==============================] - 2s 187ms/step - loss: 2.3736e-04 - val_loss: 0.0012\n",
      "Epoch 75/100\n",
      "12/12 [==============================] - 2s 184ms/step - loss: 2.3273e-04 - val_loss: 0.0015\n",
      "Epoch 76/100\n",
      "12/12 [==============================] - 2s 189ms/step - loss: 2.3374e-04 - val_loss: 0.0012\n",
      "Epoch 77/100\n",
      "12/12 [==============================] - 3s 242ms/step - loss: 2.2722e-04 - val_loss: 0.0011\n",
      "Epoch 78/100\n"
     ]
    },
    {
     "name": "stdout",
     "output_type": "stream",
     "text": [
      "12/12 [==============================] - 3s 214ms/step - loss: 2.2360e-04 - val_loss: 0.0013\n",
      "Epoch 79/100\n",
      "12/12 [==============================] - 3s 227ms/step - loss: 2.3375e-04 - val_loss: 0.0015\n",
      "Epoch 80/100\n",
      "12/12 [==============================] - 2s 205ms/step - loss: 2.8485e-04 - val_loss: 0.0012\n",
      "Epoch 81/100\n",
      "12/12 [==============================] - 2s 178ms/step - loss: 2.0268e-04 - val_loss: 0.0012\n",
      "Epoch 82/100\n",
      "12/12 [==============================] - 2s 182ms/step - loss: 2.1214e-04 - val_loss: 0.0012\n",
      "Epoch 83/100\n",
      "12/12 [==============================] - 2s 177ms/step - loss: 2.0527e-04 - val_loss: 0.0011\n",
      "Epoch 84/100\n",
      "12/12 [==============================] - 2s 175ms/step - loss: 2.0050e-04 - val_loss: 0.0011\n",
      "Epoch 85/100\n",
      "12/12 [==============================] - 2s 178ms/step - loss: 2.1153e-04 - val_loss: 0.0015\n",
      "Epoch 86/100\n",
      "12/12 [==============================] - 2s 184ms/step - loss: 2.5035e-04 - val_loss: 0.0017\n",
      "Epoch 87/100\n",
      "12/12 [==============================] - 2s 202ms/step - loss: 2.2733e-04 - val_loss: 0.0012\n",
      "Epoch 88/100\n",
      "12/12 [==============================] - 3s 215ms/step - loss: 2.4481e-04 - val_loss: 0.0012\n",
      "Epoch 89/100\n",
      "12/12 [==============================] - 3s 209ms/step - loss: 1.9094e-04 - val_loss: 0.0011\n",
      "Epoch 90/100\n",
      "12/12 [==============================] - 2s 183ms/step - loss: 1.7881e-04 - val_loss: 0.0010\n",
      "Epoch 91/100\n",
      "12/12 [==============================] - 3s 210ms/step - loss: 1.8611e-04 - val_loss: 0.0013\n",
      "Epoch 92/100\n",
      "12/12 [==============================] - 2s 196ms/step - loss: 2.1278e-04 - val_loss: 0.0013\n",
      "Epoch 93/100\n",
      "12/12 [==============================] - 2s 200ms/step - loss: 1.8306e-04 - val_loss: 0.0010\n",
      "Epoch 94/100\n",
      "12/12 [==============================] - 2s 208ms/step - loss: 1.8046e-04 - val_loss: 0.0010\n",
      "Epoch 95/100\n",
      "12/12 [==============================] - 2s 183ms/step - loss: 1.7289e-04 - val_loss: 9.9313e-04\n",
      "Epoch 96/100\n",
      "12/12 [==============================] - 2s 180ms/step - loss: 1.7314e-04 - val_loss: 0.0012\n",
      "Epoch 97/100\n",
      "12/12 [==============================] - 3s 221ms/step - loss: 1.7342e-04 - val_loss: 0.0010\n",
      "Epoch 98/100\n",
      "12/12 [==============================] - 2s 195ms/step - loss: 1.6135e-04 - val_loss: 9.7128e-04\n",
      "Epoch 99/100\n",
      "12/12 [==============================] - 2s 187ms/step - loss: 1.6254e-04 - val_loss: 9.9008e-04\n",
      "Epoch 100/100\n",
      "12/12 [==============================] - 2s 187ms/step - loss: 1.7487e-04 - val_loss: 9.4350e-04\n"
     ]
    },
    {
     "data": {
      "text/plain": [
       "<tensorflow.python.keras.callbacks.History at 0x1adce14eca0>"
      ]
     },
     "execution_count": 34,
     "metadata": {},
     "output_type": "execute_result"
    }
   ],
   "source": [
    "model.fit(X_train,y_train,validation_data=(X_test,ytest),epochs=100,batch_size=64,verbose=1)"
   ]
  },
  {
   "cell_type": "code",
   "execution_count": 36,
   "metadata": {},
   "outputs": [],
   "source": [
    "### Lets Do the prediction and check performance metrics\n",
    "train_predict=model.predict(X_train)\n",
    "test_predict=model.predict(X_test)\n",
    "\n",
    "\n",
    "##Transformback to original form\n",
    "train_predict=scaler.inverse_transform(train_predict)\n",
    "test_predict=scaler.inverse_transform(test_predict)"
   ]
  },
  {
   "cell_type": "code",
   "execution_count": 37,
   "metadata": {},
   "outputs": [
    {
     "data": {
      "text/plain": [
       "141.48893793828387"
      ]
     },
     "execution_count": 37,
     "metadata": {},
     "output_type": "execute_result"
    }
   ],
   "source": [
    "math.sqrt(mean_squared_error(y_train,train_predict))"
   ]
  },
  {
   "cell_type": "code",
   "execution_count": 38,
   "metadata": {},
   "outputs": [
    {
     "data": {
      "text/plain": [
       "237.15508414614487"
      ]
     },
     "execution_count": 38,
     "metadata": {},
     "output_type": "execute_result"
    }
   ],
   "source": [
    "math.sqrt(mean_squared_error(ytest,test_predict))"
   ]
  },
  {
   "cell_type": "code",
   "execution_count": null,
   "metadata": {},
   "outputs": [],
   "source": []
  },
  {
   "cell_type": "code",
   "execution_count": 40,
   "metadata": {},
   "outputs": [],
   "source": [
    "#Use the kalman_filter to process the data\n",
    "import src.kalman_filter as kalman_filter\n",
    "import src.yahoo_financedata as yahoo_financedata\n"
   ]
  },
  {
   "cell_type": "code",
   "execution_count": 49,
   "metadata": {},
   "outputs": [],
   "source": []
  },
  {
   "cell_type": "code",
   "execution_count": 50,
   "metadata": {},
   "outputs": [
    {
     "data": {
      "text/plain": [
       "0       132.045\n",
       "1       131.780\n",
       "2       130.280\n",
       "3       130.535\n",
       "4       129.960\n",
       "         ...   \n",
       "1253    314.960\n",
       "1254    313.140\n",
       "1255    319.230\n",
       "1256    316.850\n",
       "1257    318.890\n",
       "Name: close, Length: 1258, dtype: float64"
      ]
     },
     "execution_count": 50,
     "metadata": {},
     "output_type": "execute_result"
    }
   ],
   "source": [
    "dataReader = yahoo_financedata.YahooFinanceData()\n",
    "dataReader.open_data(data_filename)"
   ]
  },
  {
   "cell_type": "code",
   "execution_count": null,
   "metadata": {},
   "outputs": [],
   "source": [
    "# init kalman filter\n",
    "x = np.full((2, 1), 2)\n",
    "P = np.full((2, 2), 2 ** 2)\n",
    "state = kalman_filter.State(x, P)\n",
    "\n",
    "Q = np.full((2, 2), 1 ** 2)\n",
    "F = np.array([[1, 1],\n",
    "              [0, 1]])\n",
    "R = np.array([[0.5 ** 2]])\n",
    "H = np.array([[1, 0]])"
   ]
  },
  {
   "cell_type": "code",
   "execution_count": null,
   "metadata": {},
   "outputs": [],
   "source": [
    "# data for plotting\n",
    "gt = {'price': [], 'trend': []}\n",
    "result = {'price': [], 'trend': []}\n",
    "velocity = []\n",
    "\n",
    "counter = 0\n",
    "\n",
    "while dataReader.has_more_data():\n",
    "    z = dataReader.next_measurement()\n",
    "\n",
    "    if counter == 0:\n",
    "        x = np.array([[z[0][0]], [0]])\n",
    "        state = kalman_filter.State(x, P)\n",
    "\n",
    "    prior = kalman_filter.predict(state, F, Q)\n",
    "    posterior = kalman_filter.update(prior, z, R, H)\n",
    "    state = posterior\n",
    "\n",
    "    gt['price'].append(z[0][0])\n",
    "    result['price'].append(prior.X[0][0])\n",
    "    velocity.append(prior.X[1][0])\n",
    "\n",
    "    if counter == 0:\n",
    "        gt['trend'].append(1)\n",
    "        result['trend'].append(1)\n",
    "    else:\n",
    "        predicted_trend = 1 if prior.X[0][0] > result['price'][counter - 1] else -1\n",
    "        result['trend'].append(predicted_trend)\n",
    "        gt_trend = 1 if z[0][0] > gt['price'][counter - 1] else -1\n",
    "        gt['trend'].append(gt_trend)\n",
    "\n",
    "    counter += 1"
   ]
  },
  {
   "cell_type": "code",
   "execution_count": null,
   "metadata": {},
   "outputs": [],
   "source": []
  },
  {
   "cell_type": "code",
   "execution_count": null,
   "metadata": {},
   "outputs": [],
   "source": [
    "df1=scaler.fit_transform(np.array(df1).reshape(-1,1))"
   ]
  },
  {
   "cell_type": "code",
   "execution_count": null,
   "metadata": {},
   "outputs": [],
   "source": [
    "training_size=int(len(df1)*0.65)\n",
    "test_size=len(df1)-training_size\n",
    "train_data,test_data=df1[0:training_size,:],df1[training_size:len(df1),:1]"
   ]
  },
  {
   "cell_type": "code",
   "execution_count": null,
   "metadata": {},
   "outputs": [],
   "source": [
    "# reshape into X=t,t+1,t+2,t+3 and Y=t+4\n",
    "time_step = 100\n",
    "X1_train, y1_train = create_dataset(train_data, time_step)\n",
    "X1_test, y1_test = create_dataset(test_data, time_step)"
   ]
  },
  {
   "cell_type": "code",
   "execution_count": null,
   "metadata": {},
   "outputs": [],
   "source": [
    "# reshape input to be [samples, time steps, features] which is required for LSTM\n",
    "X1_train =X1_train.reshape(X1_train.shape[0],X1_train.shape[1] , 1)\n",
    "X1_test = X1_test.reshape(X1_test.shape[0],X1_test.shape[1] , 1)"
   ]
  },
  {
   "cell_type": "code",
   "execution_count": null,
   "metadata": {},
   "outputs": [],
   "source": [
    "model_with_kalman.fit(X1_train,y1_train,validation_data=(X1_test,y1test),epochs=100,batch_size=64,verbose=1)"
   ]
  },
  {
   "cell_type": "code",
   "execution_count": null,
   "metadata": {},
   "outputs": [],
   "source": [
    "### Lets Do the prediction and check performance metrics\n",
    "train_predict=model_with_kalman.predict(X1_train)\n",
    "test_predict=model_with_kalman.predict(X1_test)\n",
    "\n",
    "\n",
    "##Transformback to original form\n",
    "train_predict=scaler.inverse_transform(train_predict)\n",
    "test_predict=scaler.inverse_transform(test_predict)"
   ]
  },
  {
   "cell_type": "code",
   "execution_count": null,
   "metadata": {},
   "outputs": [],
   "source": [
    "math.sqrt(mean_squared_error(y_train,train_predict))"
   ]
  },
  {
   "cell_type": "code",
   "execution_count": null,
   "metadata": {},
   "outputs": [],
   "source": [
    "math.sqrt(mean_squared_error(ytest,test_predict))"
   ]
  }
 ],
 "metadata": {
  "kernelspec": {
   "display_name": "Python 3",
   "language": "python",
   "name": "python3"
  },
  "language_info": {
   "codemirror_mode": {
    "name": "ipython",
    "version": 3
   },
   "file_extension": ".py",
   "mimetype": "text/x-python",
   "name": "python",
   "nbconvert_exporter": "python",
   "pygments_lexer": "ipython3",
   "version": "3.8.3"
  }
 },
 "nbformat": 4,
 "nbformat_minor": 4
}
